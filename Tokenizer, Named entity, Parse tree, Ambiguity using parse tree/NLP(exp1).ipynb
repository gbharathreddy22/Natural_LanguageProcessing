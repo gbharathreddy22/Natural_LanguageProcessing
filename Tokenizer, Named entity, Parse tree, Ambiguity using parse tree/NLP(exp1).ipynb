{
 "cells": [
  {
   "cell_type": "code",
   "execution_count": 1,
   "id": "ec0cdeed",
   "metadata": {},
   "outputs": [
    {
     "name": "stdout",
     "output_type": "stream",
     "text": [
      "          s                   \n",
      "          |                    \n",
      "          vp                  \n",
      "  ________|____                \n",
      " |             np             \n",
      " |     ________|_____          \n",
      " |    |              np       \n",
      " |    |              |         \n",
      " |    |              np       \n",
      " |    |         _____|____     \n",
      " |    |        np         |   \n",
      " |    |        |          |    \n",
      " v    d        n          n   \n",
      " |    |        |          |    \n",
      "Book the     dinner     flight\n",
      "\n"
     ]
    }
   ],
   "source": [
    "from nltk import *\n",
    "n1=Tree('np',[Tree('np',[Tree('n',['dinner'])]),Tree('n',['flight'])])\n",
    "np=Tree('np',[Tree('d',['the']),Tree('np',[n1])])\n",
    "vp=Tree('vp',[Tree('v',['Book']),np])\n",
    "tree=Tree('s',[vp])\n",
    "tree.pretty_print()"
   ]
  },
  {
   "cell_type": "code",
   "execution_count": 4,
   "id": "138ec5a9",
   "metadata": {},
   "outputs": [
    {
     "name": "stdout",
     "output_type": "stream",
     "text": [
      "      s                   \n",
      "      |                    \n",
      "      vp                  \n",
      "  ____|_______________     \n",
      " |        np          np  \n",
      " |     ___|____       |    \n",
      " |    |        np     np  \n",
      " |    |        |      |    \n",
      " v    d        n      n   \n",
      " |    |        |      |    \n",
      "Book the     dinner flight\n",
      "\n"
     ]
    }
   ],
   "source": [
    "from nltk import *\n",
    "np2=Tree('np',[Tree('np',[Tree('n',['flight'])])])\n",
    "np1=Tree('np',[Tree('d',['the']),Tree('np',[Tree('n',['dinner'])])])\n",
    "vp=Tree('vp',[Tree('v',['Book']),np1,np2])\n",
    "tree=Tree('s',[vp])\n",
    "tree.pretty_print()"
   ]
  },
  {
   "cell_type": "code",
   "execution_count": 5,
   "id": "5eff8841",
   "metadata": {},
   "outputs": [
    {
     "name": "stderr",
     "output_type": "stream",
     "text": [
      "[nltk_data] Downloading package averaged_perceptron_tagger to\n",
      "[nltk_data]     C:\\Users\\admin\\AppData\\Roaming\\nltk_data...\n",
      "[nltk_data]   Package averaged_perceptron_tagger is already up-to-\n",
      "[nltk_data]       date!\n",
      "[nltk_data] Downloading package maxent_ne_chunker to\n",
      "[nltk_data]     C:\\Users\\admin\\AppData\\Roaming\\nltk_data...\n",
      "[nltk_data]   Package maxent_ne_chunker is already up-to-date!\n",
      "[nltk_data] Downloading package words to\n",
      "[nltk_data]     C:\\Users\\admin\\AppData\\Roaming\\nltk_data...\n",
      "[nltk_data]   Package words is already up-to-date!\n"
     ]
    },
    {
     "data": {
      "text/plain": [
       "True"
      ]
     },
     "execution_count": 5,
     "metadata": {},
     "output_type": "execute_result"
    }
   ],
   "source": [
    "import nltk\n",
    "nltk.download('averaged_perceptron_tagger')\n",
    "nltk.download('maxent_ne_chunker')\n",
    "nltk.download('words')"
   ]
  },
  {
   "cell_type": "code",
   "execution_count": 11,
   "id": "38dde7d7",
   "metadata": {},
   "outputs": [
    {
     "name": "stdout",
     "output_type": "stream",
     "text": [
      "ORGANIZATION --> MadrasInstitute\n",
      "GPE --> Technology\n",
      "ORGANIZATION --> AeronauticalDevelopment\n",
      "ORGANIZATION --> DefenceResearch\n",
      "ORGANIZATION --> DevelopmentOrganisation\n",
      "PERSON --> PressInformationBureau\n",
      "GPE --> India\n",
      "ORGANIZATION --> DefenceResearchDevelopmentService\n",
      "ORGANIZATION --> DRDOalam\n",
      "PERSON --> RajaRamanna\n",
      "PERSON --> Buddha\n",
      "ORGANIZATION --> TBRL\n",
      "PERSON --> Kalam\n",
      "PERSON --> ProjectDevil\n",
      "PERSON --> ProjectValiant\n",
      "ORGANIZATION --> SLV\n"
     ]
    }
   ],
   "source": [
    "import re\n",
    "import nltk\n",
    "from nltk.tokenize import TreebankWordTokenizer\n",
    "from nltk.stem import PorterStemmer\n",
    "f=open(\"nlp.txt\",'r')\n",
    "tk=TreebankWordTokenizer()\n",
    "new_string = re.sub(r'[^\\w\\s]', '', f.read())\n",
    "val=tk.tokenize(new_string)\n",
    "tagged=nltk.pos_tag(val)\n",
    "entities=nltk.chunk.ne_chunk(tagged)\n",
    "\n",
    "for entity in entities:\n",
    "    if hasattr(entity, 'label') and entity.label() == 'ORGANIZATION':\n",
    "        print(entity.label(),'-->', ''.join(c[0] for c in entity))\n",
    "    elif hasattr(entity, 'label') and entity.label() == 'GPE':\n",
    "        print(entity.label(), '-->',''.join(c[0] for c in entity))\n",
    "    elif hasattr(entity, 'label') and entity.label() == 'PERSON':\n",
    "        print(entity.label(), '-->',''.join(c[0] for c in entity))\n",
    "f.close()"
   ]
  },
  {
   "cell_type": "code",
   "execution_count": null,
   "id": "c1a8592b",
   "metadata": {},
   "outputs": [],
   "source": []
  }
 ],
 "metadata": {
  "kernelspec": {
   "display_name": "Python 3",
   "language": "python",
   "name": "python3"
  },
  "language_info": {
   "codemirror_mode": {
    "name": "ipython",
    "version": 3
   },
   "file_extension": ".py",
   "mimetype": "text/x-python",
   "name": "python",
   "nbconvert_exporter": "python",
   "pygments_lexer": "ipython3",
   "version": "3.8.8"
  }
 },
 "nbformat": 4,
 "nbformat_minor": 5
}
